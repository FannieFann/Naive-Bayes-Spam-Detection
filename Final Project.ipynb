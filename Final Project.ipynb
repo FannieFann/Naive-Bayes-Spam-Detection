{
 "cells": [
  {
   "cell_type": "markdown",
   "metadata": {},
   "source": [
    "Spam Dectection -- Naive Bayes\n",
    "The process of spam detection using Naive Bayes is:\n",
    "\n",
    "\n",
    "strat - read the file - create dictionary - create word vector - start training - statr testing - end\n",
    "Detect and filter spam from txt file named \"SMSSpamCollection\" that have already been compiled from my email."
   ]
  },
  {
   "cell_type": "code",
   "execution_count": 2,
   "metadata": {},
   "outputs": [
    {
     "name": "stdout",
     "output_type": "stream",
     "text": [
      "4827\n",
      "5574\n"
     ]
    }
   ],
   "source": [
    "from numpy import *\n",
    "import numpy as np\n",
    "with open('SMSSpamCollection',encoding='utf-8') as f:\n",
    "    txt_list = f.readlines()\n",
    "\n",
    "data = []\n",
    "classVec = []\n",
    "\n",
    "spam_data = []\n",
    "for txt in txt_list:\n",
    "    txt_list_2 = txt.strip(\"\\n\").split('\\t')\n",
    "    if txt_list_2[0] == \"ham\":\n",
    "        data.append(txt_list_2[1])\n",
    "        classVec.append(1)\n",
    "    elif txt_list_2[0] == \"spam\":\n",
    "        data.append(txt_list_2[1])\n",
    "        classVec.append(0)\n",
    "        spam_data.append(txt_list_2[1])\n",
    "print(sum(classVec))\n",
    "print(len(data))"
   ]
  },
  {
   "cell_type": "markdown",
   "metadata": {},
   "source": [
    "Split each email by Regularization. Delect words whose length is smaller than 2. Then lower case each word."
   ]
  },
  {
   "cell_type": "code",
   "execution_count": 3,
   "metadata": {},
   "outputs": [],
   "source": [
    "def textParse(bigString):\n",
    "    import re\n",
    "    listOfTokens = re.split(r\"\\W*\",bigString)\n",
    "    return [tok.lower() for tok in listOfTokens if len(tok)>2]"
   ]
  },
  {
   "cell_type": "markdown",
   "metadata": {},
   "source": [
    "Split words from 5574 emails including spam and ham. Then append them to lists named data_parse and spam_parse. "
   ]
  },
  {
   "cell_type": "code",
   "execution_count": 4,
   "metadata": {},
   "outputs": [
    {
     "name": "stdout",
     "output_type": "stream",
     "text": [
      "5574\n",
      "747\n"
     ]
    }
   ],
   "source": [
    "data_parse = []\n",
    "for t in data:\n",
    "    data_parse.append(textParse(t))\n",
    "print(len(data_parse))\n",
    "\n",
    "spam_parse = []\n",
    "for t in spam_data:\n",
    "    spam_parse.append(textParse(t))\n",
    "print(len(spam_parse))"
   ]
  },
  {
   "cell_type": "markdown",
   "metadata": {},
   "source": [
    "Define a function that tranverse each word in spam_parse. Delete stopwords. Generate a dictionary which has 2151 dimensions."
   ]
  },
  {
   "cell_type": "code",
   "execution_count": 5,
   "metadata": {},
   "outputs": [],
   "source": [
    "def createVocabList(dataSet):\n",
    "    vocabSet = set([])\n",
    "    vocabs = []\n",
    "    for document in dataSet:\n",
    "#         print(set(document))\n",
    "        vocabSet = vocabSet | set(document)\n",
    "#     print(list(vocabSet))\n",
    "    for vocab in list(vocabSet):\n",
    "  \n",
    "        from nltk.corpus import stopwords as pw\n",
    "        cacheStopWords=pw.words(\"english\")\n",
    "        if vocab not in cacheStopWords and not vocab.isdigit():\n",
    "            vocabs.append(vocab)\n",
    "    return list(vocabs)\n",
    "vocabList = createVocabList(spam_parse)"
   ]
  },
  {
   "cell_type": "markdown",
   "metadata": {},
   "source": [
    "Convert words to numeric vectors for computation."
   ]
  },
  {
   "cell_type": "code",
   "execution_count": 6,
   "metadata": {},
   "outputs": [],
   "source": [
    "def bagOfWords2VecMN(vocabList, inputSet):\n",
    "    returnVec = [0] * len(vocabList)\n",
    "    for word in inputSet:\n",
    "        if word in vocabList:\n",
    "            returnVec[vocabList.index(word)] += 1\n",
    "    return returnVec"
   ]
  },
  {
   "cell_type": "markdown",
   "metadata": {},
   "source": [
    "Calculate the frequency of each word in both spam list and ham list. Compute the probability of being a ham given a email."
   ]
  },
  {
   "cell_type": "code",
   "execution_count": 7,
   "metadata": {},
   "outputs": [],
   "source": [
    "def trainNB(trainMatrix,trainCategory):\n",
    "    numTrainDocs = len(trainMatrix)\n",
    "    numWords = len(trainMatrix[0])\n",
    "    pNormal = sum(trainCategory) / float(numTrainDocs)\n",
    "    p0Num = ones(numWords)\n",
    "    p1Num = ones(numWords)\n",
    "    p0Denom = 2.0\n",
    "    p1Denom = 2.0\n",
    "    for i in range(numTrainDocs):\n",
    "        if trainCategory[i] == 1:\n",
    "            p1Num += trainMatrix[i]\n",
    "            p1Denom += sum(trainMatrix[i])\n",
    "        else:\n",
    "            p0Num += trainMatrix[i]\n",
    "            p0Denom += sum(trainMatrix[i])\n",
    "    p1Vect = log(p1Num / p1Denom)\n",
    "    p0Vect = log(p0Num / p0Denom)\n",
    "\n",
    "    return p0Vect,p1Vect,pNormal"
   ]
  },
  {
   "cell_type": "code",
   "execution_count": 8,
   "metadata": {},
   "outputs": [],
   "source": [
    "def classifyNB(vec2Classify,p0Vec,p1Vec,pClass1):\n",
    "    p1 = sum(vec2Classify * p1Vec) + log(pClass1)\n",
    "    p0 = sum(vec2Classify * p0Vec) + log(1-pClass1)\n",
    "    if p1>p0:\n",
    "        return 1\n",
    "    else:\n",
    "        return 0"
   ]
  },
  {
   "cell_type": "markdown",
   "metadata": {},
   "source": [
    "Dataset of 5500 email. 3500 traning data. 2000 testing data."
   ]
  },
  {
   "cell_type": "code",
   "execution_count": 9,
   "metadata": {},
   "outputs": [
    {
     "name": "stdout",
     "output_type": "stream",
     "text": [
      "0\n",
      "5574\n",
      "error_to_right: 280\n",
      "right_to_error: 0\n",
      "............................................\n",
      "accuracy: 0.86\n",
      "recall score： 1.0\n",
      "precision: 0.86\n",
      "              precision    recall  f1-score   support\n",
      "\n",
      "           0       0.00      0.00      0.00       280\n",
      "           1       0.86      1.00      0.92      1720\n",
      "\n",
      "   micro avg       0.86      0.86      0.86      2000\n",
      "   macro avg       0.43      0.50      0.46      2000\n",
      "weighted avg       0.74      0.86      0.80      2000\n",
      "\n",
      "CPU times: user 547 ms, sys: 218 ms, total: 765 ms\n",
      "Wall time: 12.1 s\n"
     ]
    },
    {
     "name": "stderr",
     "output_type": "stream",
     "text": [
      "/anaconda3/lib/python3.7/site-packages/sklearn/metrics/classification.py:1143: UndefinedMetricWarning: Precision and F-score are ill-defined and being set to 0.0 in labels with no predicted samples.\n",
      "  'precision', 'predicted', average, warn_for)\n"
     ]
    }
   ],
   "source": [
    "%%time\n",
    "import time\n",
    "for _ in range(1000):\n",
    "    time.sleep(0.01)\n",
    "import sklearn\n",
    "from sklearn.metrics import recall_score\n",
    "from sklearn.metrics import precision_score\n",
    "from sklearn.metrics import classification_report\n",
    "from sklearn.metrics import accuracy_score\n",
    "vocabList = createVocabList(spam_parse)\n",
    "print(len(vocabList))\n",
    "trainMat = []\n",
    "trainClasses = []\n",
    "print(len(data_parse))\n",
    "trainSet_ini = np.array((range(5500)))\n",
    "testSet = []\n",
    "\n",
    "randIndex = 0\n",
    "trainSet = []\n",
    "testSet.append(trainSet_ini[:2000])\n",
    "trainSet.append(trainSet_ini[2000:])\n",
    "\n",
    "for docIndex in trainSet[0]:\n",
    "    trainMat.append(bagOfWords2VecMN(vocabList,data_parse[docIndex]))\n",
    "    trainClasses.append(classVec[docIndex])\n",
    "p0V,p1V,pHam = trainNB(array(trainMat),array(trainClasses))\n",
    "\n",
    "errorCount = 0\n",
    "right_to_error = 0\n",
    "error_to_right = 0\n",
    "\n",
    "true_classVec = []\n",
    "pred = []\n",
    "for docIndex in testSet[0]:\n",
    "    wordVector = bagOfWords2VecMN(vocabList, data_parse[docIndex])\n",
    "    true_classVec.append(classVec[docIndex])\n",
    "    pred.append(classifyNB(array(wordVector),p0V,p1V,pHam))\n",
    "\n",
    "    if classVec[docIndex] == 1 and classifyNB(array(wordVector),p0V,p1V,pHam) != classVec[docIndex]:\n",
    "        right_to_error += 1\n",
    " \n",
    "    if classVec[docIndex] == 0 and classifyNB(array(wordVector),p0V,p1V,pHam) != classVec[docIndex]:\n",
    "        error_to_right += 1\n",
    "    if classifyNB(array(wordVector),p0V,p1V,pHam) != classVec[docIndex]:\n",
    "        errorCount += 1\n",
    "#         print(\"classification error\",data_parse[docIndex])\n",
    "accuracy_score_value = accuracy_score(true_classVec,pred)\n",
    "recall_score_value = recall_score(true_classVec,pred)\n",
    "precision_score_value = precision_score(true_classVec,pred)\n",
    "classification_report_value = classification_report(true_classVec,pred)\n",
    "print(\"error_to_right:\",error_to_right)\n",
    "print(\"right_to_error:\",right_to_error)\n",
    "print(\"............................................\")\n",
    "print(\"accuracy:\",accuracy_score_value)\n",
    "print(\"recall score：\",recall_score_value)\n",
    "print(\"precision:\",precision_score_value)\n",
    "print(classification_report_value)"
   ]
  },
  {
   "cell_type": "markdown",
   "metadata": {},
   "source": [
    "Narrow testing data to 500. Plot the change of precision given training data from 500,1000,2000,3000,4000 to 5000."
   ]
  },
  {
   "cell_type": "code",
   "execution_count": 11,
   "metadata": {},
   "outputs": [
    {
     "name": "stderr",
     "output_type": "stream",
     "text": [
      "No handles with labels found to put in legend.\n"
     ]
    },
    {
     "data": {
      "image/png": "[encoded data removed]",
      "text/plain": [
       "<Figure size 432x288 with 1 Axes>"
      ]
     },
     "metadata": {
      "needs_background": "light"
     },
     "output_type": "display_data"
    }
   ],
   "source": [
    "import matplotlib.pyplot as plt\n",
    "from pylab import *                       \n",
    "\n",
    "names = ['500', '1000', '2000', '3000', '4000','5000']\n",
    "x = range(len(names))\n",
    "x\n",
    "range(0, 6)\n",
    "y = [0.956, 0.972, 0.98, 0.98, 0.984,0.98]\n",
    "plt.plot(x, y, marker='o', mec='r', mfc='w')\n",
    "plt.legend()  \n",
    "plt.xticks(x, names, rotation=45)\n",
    "plt.margins(0)\n",
    "plt.subplots_adjust(bottom=0.15)\n",
    "plt.xlabel(\"test number\") \n",
    "plt.ylabel(\"precision\") \n",
    "plt.title(\"change of accuracy\") \n",
    "plt.savefig(\"NB.png\")\n",
    "plt.show()\n",
    "\n"
   ]
  },
  {
   "cell_type": "markdown",
   "metadata": {},
   "source": [
    "Conclusion: in this project, I used Naive Bayes to detect spam in my mailbox. The accuracy is 0.86 when the email numbers are 5000. Also, when changing the test number, we can see an increase of accuracy from 500 to 5000."
   ]
  },
  {
   "cell_type": "code",
   "execution_count": null,
   "metadata": {},
   "outputs": [],
   "source": []
  }
 ],
 "metadata": {
  "kernelspec": {
   "display_name": "Python 3",
   "language": "python",
   "name": "python3"
  },
  "language_info": {
   "codemirror_mode": {
    "name": "ipython",
    "version": 3
   },
   "file_extension": ".py",
   "mimetype": "text/x-python",
   "name": "python",
   "nbconvert_exporter": "python",
   "pygments_lexer": "ipython3",
   "version": "3.7.1"
  }
 },
 "nbformat": 4,
 "nbformat_minor": 2
}
